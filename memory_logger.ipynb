{
 "cells": [
  {
   "cell_type": "code",
   "execution_count": 1,
   "id": "4616ba57",
   "metadata": {},
   "outputs": [
    {
     "name": "stdout",
     "output_type": "stream",
     "text": [
      "\n",
      "Memory\n",
      "1.       RAM Usage\n",
      "2.       Swap Usage\n",
      "3.       Used Memory\n",
      "4.       Free Memory\n",
      "5.       Free Swap Memory\n",
      "\n"
     ]
    }
   ],
   "source": [
    "string = \"\"\"\n",
    "Memory\n",
    "1.       RAM Usage\n",
    "2.       Swap Usage\n",
    "3.       Used Memory\n",
    "4.       Free Memory\n",
    "5.       Free Swap Memory\n",
    "\"\"\"\n",
    "print (string)"
   ]
  },
  {
   "cell_type": "code",
   "execution_count": 107,
   "id": "960287cc",
   "metadata": {},
   "outputs": [],
   "source": [
    "import json\n",
    "import psutil\n",
    "from psutil._common import bytes2human\n",
    "\n",
    "class RamMemory(dict):\n",
    "    def __init__(self):\n",
    "        dict.__init__(self)\n",
    "        mem = psutil.virtual_memory()\n",
    "        self.total_memory = bytes2human(mem.total) #Total physical memory\n",
    "        self.available_memory = bytes2human(mem.available)\n",
    "        self.used_memory = bytes2human(mem.used)\n",
    "        self.free_memory = bytes2human(mem.free)\n",
    "        self.percent_of_memory_used = \"{} %\".format(mem.percent)\n",
    "\n",
    "    def serialize(self):\n",
    "        return json.dumps(self.__dict__, indent = 4)\n",
    "    \n",
    "class SwapMemory(dict):\n",
    "    def __init__(self):\n",
    "        dict.__init__(self)\n",
    "        mem = psutil.swap_memory()\n",
    "        self.total_swap_memory = bytes2human(mem.total) #Total physical memory\n",
    "        self.used_swap_memory = bytes2human(mem.used)\n",
    "        self.free_swap_memory = bytes2human(mem.free)\n",
    "        self.percent_of_swap_memory_used = \"{} %\".format(mem.percent)\n",
    "        self.bytes_swapped_in_from_disk = mem.sin\n",
    "        self.bytes_swapped_out_from_disk = mem.sout\n",
    "\n",
    "    def serialize(self):\n",
    "        return json.dumps(self.__dict__, indent = 4)\n",
    "\n",
    "    \n",
    "class PirlMemoryLogger:\n",
    "    def __init__(self):\n",
    "        self.ram = RamMemory()\n",
    "        self.swap = SwapMemory()\n",
    "\n",
    "    def serialize(self):\n",
    "        memory_dict = {}\n",
    "        memory_dict['ram_memory'] = json.loads(self.ram.serialize())\n",
    "        memory_dict['swap_memory'] = json.loads(self.swap.serialize())\n",
    "        return json.dumps(memory_dict, indent = 4)\n",
    "\n",
    "    def deserialize(self, json_string):\n",
    "        return json.loads(json_string)"
   ]
  },
  {
   "cell_type": "code",
   "execution_count": 108,
   "id": "3ac9317d",
   "metadata": {},
   "outputs": [
    {
     "name": "stdout",
     "output_type": "stream",
     "text": [
      "{\n",
      "    \"ram_memory\": {\n",
      "        \"total_memory\": \"48.0G\",\n",
      "        \"available_memory\": \"24.5G\",\n",
      "        \"used_memory\": \"23.4G\",\n",
      "        \"free_memory\": \"24.5G\",\n",
      "        \"percent_of_memory_used\": \"48.9 %\"\n",
      "    },\n",
      "    \"swap_memory\": {\n",
      "        \"total_swap_memory\": \"32.0G\",\n",
      "        \"used_swap_memory\": \"15.6G\",\n",
      "        \"free_swap_memory\": \"16.4G\",\n",
      "        \"percent_of_swap_memory_used\": \"48.6 %\",\n",
      "        \"bytes_swapped_in_from_disk\": 0,\n",
      "        \"bytes_swapped_out_from_disk\": 0\n",
      "    }\n",
      "}\n"
     ]
    }
   ],
   "source": [
    "m = PirlMemoryLogger()\n",
    "print(m.serialize())"
   ]
  },
  {
   "cell_type": "code",
   "execution_count": null,
   "id": "5684a002",
   "metadata": {},
   "outputs": [],
   "source": []
  },
  {
   "cell_type": "code",
   "execution_count": null,
   "id": "f828efec",
   "metadata": {},
   "outputs": [],
   "source": []
  }
 ],
 "metadata": {
  "kernelspec": {
   "display_name": "Python 3 (ipykernel)",
   "language": "python",
   "name": "python3"
  },
  "language_info": {
   "codemirror_mode": {
    "name": "ipython",
    "version": 3
   },
   "file_extension": ".py",
   "mimetype": "text/x-python",
   "name": "python",
   "nbconvert_exporter": "python",
   "pygments_lexer": "ipython3",
   "version": "3.9.13"
  }
 },
 "nbformat": 4,
 "nbformat_minor": 5
}
